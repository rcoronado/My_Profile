{
 "cells": [
  {
   "cell_type": "markdown",
   "metadata": {},
   "source": [
    "### Perfil del Investigador\n",
    "<img src=\"https://lh3.googleusercontent.com/-Rc-hnv60VHg/AAAAAAAAAAI/AAAAAAAAAss/zo61qY9Pq4I/s120-p-no/photo.jpg\" width = \"250\">\n",
    "\n",
    "\n",
    "## Datos Generales\n",
    "* **Direccion:** km. 12.7 carretera a San Salvador, residenciales El Socorro\n",
    "* **Móvil:** +502 48778259\n",
    "* **E-mail:** rcoronado@ufm.edu\n",
    "* **Estado Civil:** Soltero\n",
    "\n",
    "##Redes Sociales\n",
    "* **Facebook:** [Rodrigo Coronado] (https://www.facebook.com/rodrigo.coronado.7)\n",
    "* **Instagram:** rodrigo12281\n",
    "* **Twitter:** [rcoronado] (https://twitter.com/rodrigo12281)\n",
    "\n",
    "## Bio\n",
    "Estudiante de Ingeniería Empresarial de la Universidad Francisco Marroquin. Graduado con honores la carrera de bachillerato en ciencias y letras del colegio International Hands at Work. Estudios en el extranjero, México, por mas de 3 años. Diversos cursos enfocados en economía y finanzas, diplomas de idioma Inglés y Francés.  Actualmente trabajando en el area de ventas de empresa concretera \"Hormigon Express S.A\". Voluntario en organización social I58.  \n",
    "\n",
    "## Competencias Principales\n",
    "* Capacidad para permanecer eficaz dentro de un medio cambiante, así como a la hora de enfrentarse con nuevas tareas, retos y personas.\n",
    "* Eficaz para identificar un problema y los datos pertinentes al respecto, reconocer la información relevante y las posibles causas del mismo.\n",
    "* Facilidad para analizar, organizar y resolver cuestiones numéricas, datos financieros, estadísticas y similares.\n",
    "* Habilidad en la toma de decisiones que aseguren el control sobre métodos, personas y situaciones.\n",
    "\n",
    "## Estudios\n",
    " Año | Estudios \n",
    " ------- | -------\n",
    " 2016 | Estudios Ingeniería Empresarial, Universidad Francisco Marroquín\n",
    " 2016 | Participación Curso Strategy and Market Process, Universidad Francisco Marroquín\n",
    " 2015 | Bachiller con honores ciencias y letras, International Hands at Work\n",
    " 2014 | Estudios bachillerato ciencias y letras colegio Suizo Ameriacano\n",
    " 2013 | Estudios bachillerato ciencias y letras colegio International Hands at Work\n",
    " 2011 | Diplomado idioma Francés\n",
    " 2011 | Diplomado Universidad de Cambridge en idioma Ingles\n",
    " 2009 | Estudios preparatoria en México\n",
    " \n",
    " \n",
    " \n"
   ]
  },
  {
   "cell_type": "code",
   "execution_count": null,
   "metadata": {
    "collapsed": true
   },
   "outputs": [],
   "source": []
  },
  {
   "cell_type": "code",
   "execution_count": null,
   "metadata": {
    "collapsed": true
   },
   "outputs": [],
   "source": []
  }
 ],
 "metadata": {
  "kernelspec": {
   "display_name": "Python 2",
   "language": "python",
   "name": "python2"
  },
  "language_info": {
   "codemirror_mode": {
    "name": "ipython",
    "version": 2
   },
   "file_extension": ".py",
   "mimetype": "text/x-python",
   "name": "python",
   "nbconvert_exporter": "python",
   "pygments_lexer": "ipython2",
   "version": "2.7.11"
  }
 },
 "nbformat": 4,
 "nbformat_minor": 0
}
